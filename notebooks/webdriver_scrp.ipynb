{
 "cells": [
  {
   "cell_type": "code",
   "execution_count": 25,
   "id": "eaf02d78",
   "metadata": {},
   "outputs": [],
   "source": [
    "import numpy as np\n",
    "import pandas as pd\n",
    "import time\n",
    "from bs4 import BeautifulSoup\n",
    "from selenium import webdriver\n",
    "from selenium.webdriver.common.desired_capabilities import DesiredCapabilities\n",
    "import re\n",
    "import json\n",
    "\n",
    "import chromedriver_binary\n",
    "from selenium.webdriver.common.keys import Keys\n",
    "from selenium.webdriver.common.by import By\n",
    "from selenium.webdriver.support.ui import WebDriverWait\n",
    "from selenium.webdriver.support import expected_conditions as ec\n",
    "from selenium.webdriver.chrome.options import Options\n",
    "from selenium.webdriver.chrome.service import Service\n",
    "from webdriver_manager.chrome import ChromeDriverManager"
   ]
  },
  {
   "cell_type": "code",
   "execution_count": 31,
   "id": "79535734",
   "metadata": {},
   "outputs": [
    {
     "name": "stderr",
     "output_type": "stream",
     "text": [
      "/var/folders/sb/hnh01s7s07sbz3vbrdq72qjw0000gn/T/ipykernel_1983/1655178984.py:6: DeprecationWarning: find_element_by_* commands are deprecated. Please use find_element() instead\n",
      "  elementID = driver.find_element_by_id('username')\n",
      "/var/folders/sb/hnh01s7s07sbz3vbrdq72qjw0000gn/T/ipykernel_1983/1655178984.py:9: DeprecationWarning: find_element_by_* commands are deprecated. Please use find_element() instead\n",
      "  elementID = driver.find_element_by_id('password')\n"
     ]
    },
    {
     "name": "stdout",
     "output_type": "stream",
     "text": [
      "education_expand_button Exception: name 'browser' is not defined\n"
     ]
    }
   ],
   "source": [
    "\n",
    "options = Options()\n",
    "options.add_argument(\"start-maximized\")\n",
    "driver = webdriver.Chrome(service=Service(ChromeDriverManager().install()),options=options)\n",
    "driver.get('https://www.linkedin.com/uas/login')\n",
    "\n",
    "elementID = driver.find_element_by_id('username')\n",
    "elementID.send_keys(username)\n",
    "\n",
    "elementID = driver.find_element_by_id('password')\n",
    "elementID.send_keys(password)\n",
    "\n",
    "elementID.submit()\n",
    "time.sleep(5)\n",
    "\n",
    "url='url'\n",
    "driver.get(url)\n"
   ]
  },
  {
   "cell_type": "code",
   "execution_count": 49,
   "id": "5e5509b7",
   "metadata": {},
   "outputs": [
    {
     "name": "stderr",
     "output_type": "stream",
     "text": [
      "/var/folders/sb/hnh01s7s07sbz3vbrdq72qjw0000gn/T/ipykernel_1983/238206525.py:3: DeprecationWarning: find_element_by_* commands are deprecated. Please use find_element() instead\n",
      "  profile_expand_button = driver.find_element_by_xpath(\n"
     ]
    }
   ],
   "source": [
    "try:\n",
    "    # click to expand education section\n",
    "    profile_expand_button = driver.find_element_by_xpath(\n",
    "        \"//button[@class='overview-layout__top-card-metric overview-layout__top-card-drilldown lti-naked-button']\")\n",
    "    driver.execute_script(\"arguments[0].click();\", profile_expand_button)\n",
    "except Exception as e:\n",
    "    print(\"education_expand_button Exception:\", e)"
   ]
  },
  {
   "cell_type": "code",
   "execution_count": 46,
   "id": "8b28ecf2",
   "metadata": {},
   "outputs": [],
   "source": [
    "src = driver.page_source\n",
    "soup = BeautifulSoup(src, 'lxml')"
   ]
  },
  {
   "cell_type": "code",
   "execution_count": 2,
   "id": "f2b72f88",
   "metadata": {},
   "outputs": [],
   "source": [
    "# name = soup.find('div',id_='ember171',class_ = 'artdeco-entity-lockup__title ember-view profile-widget__title').string.strip()\n"
   ]
  },
  {
   "cell_type": "code",
   "execution_count": 39,
   "id": "6a85d729",
   "metadata": {},
   "outputs": [
    {
     "data": {
      "text/plain": [
       "'overview-layout__top-card-metric overview-layout__top-card-drilldown lti-naked-button'"
      ]
     },
     "execution_count": 39,
     "metadata": {},
     "output_type": "execute_result"
    }
   ],
   "source": [
    "profile_expand_button.get_attribute('class')"
   ]
  },
  {
   "cell_type": "code",
   "execution_count": 3,
   "id": "858163ba",
   "metadata": {},
   "outputs": [],
   "source": [
    "# headers = {'Content-Type':'text/plain:charset=UTF-8'}\n",
    "\n",
    "# res = requests.get(url,headers=headers)\n",
    "# print(res.json())"
   ]
  }
 ],
 "metadata": {
  "kernelspec": {
   "display_name": "Python 3 (ipykernel)",
   "language": "python",
   "name": "python3"
  },
  "language_info": {
   "codemirror_mode": {
    "name": "ipython",
    "version": 3
   },
   "file_extension": ".py",
   "mimetype": "text/x-python",
   "name": "python",
   "nbconvert_exporter": "python",
   "pygments_lexer": "ipython3",
   "version": "3.8.12"
  },
  "toc": {
   "base_numbering": 1,
   "nav_menu": {},
   "number_sections": true,
   "sideBar": true,
   "skip_h1_title": false,
   "title_cell": "Table of Contents",
   "title_sidebar": "Contents",
   "toc_cell": false,
   "toc_position": {},
   "toc_section_display": true,
   "toc_window_display": false
  }
 },
 "nbformat": 4,
 "nbformat_minor": 5
}
